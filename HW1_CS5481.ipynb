{
 "cells": [
  {
   "cell_type": "markdown",
   "metadata": {},
   "source": [
    "## Question 1 - Data Acquisition"
   ]
  },
  {
   "cell_type": "markdown",
   "metadata": {},
   "source": [
    "### Social media data, such as blogs, articles, news or Twitter posts, is much valuable for data science. However, how to obtain high-quality social media data becomes an important and challenging problem. Alternatively,we can collect the data by crowdsourcing, but it might be expensive. Therefore, we prefer to gather social media data by web scraping.Please try to crawl 20 pieces of social media data from social media websites. The data should satisfy following requirements:\n",
    "1. Types of the article, blog, news or posts with its comments;  \n",
    "2. We just need the textual information;  \n",
    "3. Try to clean the data, i.e., removing all HTML tags.  \n",
    "We provide some social media websites that you can take a try.  \n",
    "• https://english.news.cn  \n",
    "• https://www.bbc.com/news  \n",
    "• https://medium.com  \n",
    "• https://twitter.com  \n",
    "Please submit your code and the obtained social media data. \n"
   ]
  },
  {
   "cell_type": "markdown",
   "metadata": {},
   "source": [
    "**solution:**"
   ]
  },
  {
   "cell_type": "code",
   "execution_count": null,
   "metadata": {},
   "outputs": [],
   "source": [
    "import requests as r\n",
    "from bs4 import BeautifulSoup\n",
    "import re\n",
    "import os\n",
    "\n",
    "# get the html page of the xinhuawang\n",
    "url=r\"https://english.news.cn\"\n",
    "res=r.get(url)\n",
    "html=res.text\n",
    "bf=BeautifulSoup(html,'lxml')\n",
    "\n",
    "# get the hyper-reference from the html page\n",
    "# use the Regex to identify the correct link and append the link to the list\n",
    "hrefs=[]\n",
    "for item in bf.find_all(\"a\"):\n",
    "    href=item.get('href')\n",
    "    http_pattern = re.compile(r'^https?://')\n",
    "    if http_pattern.match(href):\n",
    "        hrefs.append(href)\n",
    "\n",
    "# print(hrefs)\n",
    "title=0\n",
    "\n",
    "# get the article of the link\n",
    "for href_crwal in hrefs:\n",
    "    response=r.get(href_crwal,verify=False)\n",
    "    title+=1 # to name the article\n",
    "    if response.status_code==200:\n",
    "        html_crwal=response.text\n",
    "        bf_crwal = BeautifulSoup(html_crwal, 'lxml')\n",
    "        text = bf_crwal.get_text()\n",
    "        folder_path = \"./text\"\n",
    "        # create the folder\n",
    "        if not os.path.exists(folder_path):\n",
    "            os.makedirs(folder_path)\n",
    "        # set the file name and the path\n",
    "        file_name = str(title)+\".txt\"\n",
    "        file_path = os.path.join(folder_path, file_name)\n",
    "\n",
    "        # save the text to the file\n",
    "        with open(file_path, \"w\", encoding=\"utf-8\") as file:\n",
    "            file.write(text)\n",
    "\n",
    "# for test one link\n",
    "# res_test=r.get(\"https://english.cctv.com\")\n",
    "# html_test=res_test.text\n",
    "# bf_test=BeautifulSoup(html_test,'lxml')\n",
    "# text=bf_test.get_text()\n",
    "# print(text)"
   ]
  },
  {
   "cell_type": "markdown",
   "metadata": {},
   "source": [
    "## Question 2 - Data Preprocessing"
   ]
  },
  {
   "cell_type": "markdown",
   "metadata": {},
   "source": [
    "### Regular Expressions, abbreviated as Regex or Regexp, are a string of characters created within the framework of Regex syntax rules. You can easily manage your data with Regex, which uses commands like finding, matching, and editing. Regex is an important tool during the data preprocessing stage.\n"
   ]
  },
  {
   "cell_type": "markdown",
   "metadata": {},
   "source": [
    "**solution:**"
   ]
  },
  {
   "cell_type": "code",
   "execution_count": null,
   "metadata": {},
   "outputs": [],
   "source": [
    "import re"
   ]
  },
  {
   "cell_type": "code",
   "execution_count": null,
   "metadata": {},
   "outputs": [],
   "source": [
    "# Write the pattern to check that a string only contains a certain set of characters (in this case a-zA-Z and 0-9).\n",
    "#- Test cases: ABCDEFabcdef123450 and ABCD@Fabcdef123450\n",
    "# test 1\n",
    "pattern1=r'[^a-zA-z0-9]'\n",
    "input1 = \"ABCDEFabcdef123450\"\n",
    "input2 = \"BCD@Fabcdef123450\"\n",
    "\n",
    "print(re.search(pattern1,input2))"
   ]
  },
  {
   "cell_type": "code",
   "execution_count": null,
   "metadata": {},
   "outputs": [],
   "source": [
    "# Write the pattern that matches a string that has an ‘a’ followed by one or more ‘b’.\n",
    "# - Test cases: bab, abbbbb and baaaa\n",
    "# test 2\n",
    "pattern2=r'ab+'\n",
    "input3=[\"bab\",\"abbbbb\",\"baaaa\"]\n",
    "i=0\n",
    "for i in range(len(input3)):\n",
    "    print(re.search(pattern2,input3[i]))"
   ]
  },
  {
   "cell_type": "code",
   "execution_count": null,
   "metadata": {},
   "outputs": [],
   "source": [
    "# Write the pattern to check whether a string starts and ends with a specific number (in this case 6).\n",
    "# - Test cases: 65117896, 78238936 and 56666665\n",
    "# test 3\n",
    "pattern3=r'^6.*6$'\n",
    "input4=[\"65117896\",\"78238936\",\"56666665\"]\n",
    "i=0\n",
    "for i in range(len(input4)):\n",
    "    print(re.findall(pattern3,input4[i]))"
   ]
  },
  {
   "cell_type": "code",
   "execution_count": null,
   "metadata": {},
   "outputs": [],
   "source": [
    "# Write the pattern to search the number (0-9) of length between 2-4 in a given string.\n",
    "# - Test cases: Exercises number 1, 23, 345, and 45678 are important\n",
    "# test 4\n",
    "pattern4=r'\\b\\d{2,4}\\b'\n",
    "input5=\"xercises number 1, 23, 345, and 45678 are important\"\n",
    "print(re.findall(pattern4,input5))"
   ]
  },
  {
   "cell_type": "code",
   "execution_count": null,
   "metadata": {},
   "outputs": [],
   "source": [
    "# Write the pattern to remove leading zeros from an IP address.\n",
    "# - Test cases: 210.08.090.194 and 010.01.010.100\n",
    "# test 5\n",
    "pattern5=r'\\b0+(\\d+)'\n",
    "input6=[\"010.01.010.100\",\"210.08.090.194\"]\n",
    "i=0\n",
    "for i in range(len(input6)):\n",
    "    input6[i]=re.sub(pattern5,r'\\1',input6[i])\n",
    "print(input6)"
   ]
  },
  {
   "cell_type": "code",
   "execution_count": null,
   "metadata": {},
   "outputs": [],
   "source": [
    "# Write the pattern to replace whitespaces with an underscore and vice versa.\n",
    "# - Test cases: Python Exercises Of Regular Expression\n",
    "# test 6\n",
    "pattern6=r'[ _]'\n",
    "input7=\"Python Exercises Of Regular_Expression\"\n",
    "input7=re.sub(pattern6, lambda x: '_' if x.group(0) == ' ' else ' ', input7)\n",
    "print(input7)"
   ]
  },
  {
   "cell_type": "code",
   "execution_count": null,
   "metadata": {},
   "outputs": [],
   "source": [
    "# Write the pattern to convert the date of yyyy-mm-dd format to dd-mm-yyyy format.\n",
    "# - Test cases: 2022-09-10\n",
    "# test 7\n",
    "pattern7=r'(\\d{4})-(\\d{2})-(\\d{2})'\n",
    "input8=\"2022-09-10\"\n",
    "input8=re.sub(pattern7,r'\\3-\\2-\\1',input8)\n",
    "print(input8)"
   ]
  },
  {
   "cell_type": "code",
   "execution_count": null,
   "metadata": {},
   "outputs": [],
   "source": [
    "# Write the pattern to find all words starting with ‘a’ and ‘e’.\n",
    "# - Test cases: The following example creates an ArrayList with a capacity of 50 elements. Four elements are then\n",
    "# added to the ArrayList and the ArrayList is trimmed accordingly.\n",
    "# test 8\n",
    "pattern8=r'\\b[aeAE]\\w+'\n",
    "input9=\"The following example creates an ArrayList with a capacity of 50 elements. Four elements are then added to the ArrayList and the ArrayList is trimmed accordingly\"\n",
    "re.findall(pattern8,input9)\n",
    "print(re.findall(pattern8,input9))"
   ]
  },
  {
   "cell_type": "code",
   "execution_count": null,
   "metadata": {},
   "outputs": [],
   "source": [
    "# Write the pattern to extract values between quotation marks of a string.\n",
    "# - Test cases: Regex can be used in programming languages such as “Python”, “SQL”, “Javascript”, “R”, “Google\n",
    "# Analytics”, “Google Data Studio”, and throughout the coding process.\n",
    "#test 9\n",
    "pattern9=r'“(.*?)”'\n",
    "input10=\"Regex can be used in programming languages such as “Python”, “SQL”, “Javascript”, “R”, “Google Analytics”, “Google Data Studio”, and throughout the coding process.\"\n",
    "print(re.findall(pattern9,input10))"
   ]
  },
  {
   "cell_type": "code",
   "execution_count": null,
   "metadata": {},
   "outputs": [],
   "source": [
    "# Write the pattern to find urls in a string.\n",
    "# - Test cases: Find more Examples at Github https://www.github.com or W3School https://www.w3schools.com/.\n",
    "#test 10\n",
    "pattern10=r'https?://\\S+'\n",
    "input11=\"Find more Examples at Github https://www.github.com or W3School https://www.w3schools.com/\"\n",
    "print(re.findall(pattern10,input11))"
   ]
  },
  {
   "cell_type": "markdown",
   "metadata": {},
   "source": [
    "## Question 3 - Data Processing"
   ]
  },
  {
   "cell_type": "markdown",
   "metadata": {},
   "source": [
    "### 1. Please convert the data in this file to the line-based text with your own Python codes. You should submit your runnable codes and output file."
   ]
  },
  {
   "cell_type": "markdown",
   "metadata": {},
   "source": [
    "**solution:**"
   ]
  },
  {
   "cell_type": "code",
   "execution_count": null,
   "metadata": {},
   "outputs": [],
   "source": [
    "import xml.etree.ElementTree as et\n",
    "import subword_nmt\n",
    "\n",
    "input_xml=\"sample-src.xml\"\n",
    "output_txt=\"output.txt\"\n",
    "\n",
    "tree=et.parse(input_xml)\n",
    "root=tree.getroot()\n",
    "\n",
    "# # for test\n",
    "# for child in root.iter():\n",
    "#     print(child.text)\n",
    "# print(root.iter())\n",
    "\n",
    "# convert the data to the line-based text\n",
    "with open(output_txt,\"w\",encoding=\"utf-8\") as f:\n",
    "    for child in root.iter():\n",
    "        if(child.text):\n",
    "            f.write(child.text+\"\\n\")"
   ]
  },
  {
   "cell_type": "markdown",
   "metadata": {},
   "source": [
    "## 2. After you obtain the line-based text file, please create a BPE vocabulary (save each BPE token line by line) with subword-nmt. You should submit your runnable codes and output file."
   ]
  },
  {
   "cell_type": "markdown",
   "metadata": {},
   "source": [
    "**solution:**"
   ]
  },
  {
   "cell_type": "code",
   "execution_count": null,
   "metadata": {},
   "outputs": [],
   "source": [
    "!subword-nmt learn-bpe -s 10000 < output.txt > bpe.en"
   ]
  },
  {
   "cell_type": "markdown",
   "metadata": {},
   "source": [
    "<!-- <span style=\"font-size: 18px;\">Question4</span>   -->\n",
    "## Question 4 - Data Visualization\n",
    "### 1. Assume we have a set of user profiles, including user id (Integer;1-200), sex (Binary;Male/Female), age(Integer;18-100), height (Float;100.0-200.0) and weight (Float;30.0-100.0), we intend to analyze these attributesby visualization. Which visualization technique should be selected for different attributes?"
   ]
  },
  {
   "cell_type": "markdown",
   "metadata": {},
   "source": [
    "**Solution:**  \n",
    "For sex, we can use the pie chart to show the percentage of each sex.  \n",
    "For age, we can use the histogram to show the distribution of age.  \n",
    "For height and wight, we can also use the histogram or the heat map to show the distribution of height and wight.  \n",
    "We can also use the scatter plot to show the relationship between user_id and age.  \n",
    "Heatmap can also be used to show the relationship between height, weight and age."
   ]
  },
  {
   "cell_type": "markdown",
   "metadata": {},
   "source": [
    "### 2. Write a Python Program to randomly generate 200 user profiles following above descriptions and visualize thegenerated data using your selected techniques."
   ]
  },
  {
   "cell_type": "markdown",
   "metadata": {},
   "source": [
    "**Solution:**  \n"
   ]
  },
  {
   "cell_type": "markdown",
   "metadata": {},
   "source": [
    "generate data"
   ]
  },
  {
   "cell_type": "code",
   "execution_count": null,
   "metadata": {},
   "outputs": [],
   "source": [
    "import random\n",
    "import matplotlib.pyplot as plt\n",
    "import pandas as pd\n",
    "import seaborn as sns\n",
    "\n",
    "# generate 200 user profiles randomly\n",
    "num=200\n",
    "user_profiles=[]\n",
    "for i in range(num):\n",
    "    id_tmp=i+1\n",
    "    sex_tmp=random.choice([\"Male\",\"Female\"])\n",
    "    age_tmp=random.randint(18,100)\n",
    "    height_tmp=random.uniform(100.0,200.0)\n",
    "    weight_tmp=random.uniform(30.0,100.0)\n",
    "    \n",
    "    user_profiles.append({\n",
    "        'id':id_tmp,\n",
    "        'sex':sex_tmp,\n",
    "        'age':age_tmp,\n",
    "        'height':height_tmp,\n",
    "        'weight':weight_tmp\n",
    "    })\n",
    "# print(user_profiles)"
   ]
  },
  {
   "cell_type": "markdown",
   "metadata": {},
   "source": [
    "visualize data  \n",
    "visualize sex distribution by pie chart"
   ]
  },
  {
   "cell_type": "code",
   "execution_count": null,
   "metadata": {},
   "outputs": [],
   "source": [
    "# visualize the data\n",
    "\n",
    "# visualize the sex by the pie chart\n",
    "df_raw=pd.DataFrame(user_profiles)\n",
    "df_sex=df_raw.groupby('sex').size()\n",
    "df_sex.plot(kind='pie',subplots=True,figsize=(8,8))\n",
    "plt.title(\"Pie Chart of Sex\")\n",
    "plt.ylabel(\"\")"
   ]
  },
  {
   "cell_type": "markdown",
   "metadata": {},
   "source": [
    "visualize age distribution by histogram"
   ]
  },
  {
   "cell_type": "code",
   "execution_count": null,
   "metadata": {},
   "outputs": [],
   "source": [
    "plt.hist(df_raw['age'],bins=25,color='steelblue',edgecolor='black',linewidth=0.5)\n",
    "plt.title(\"Histogram of Age\")\n",
    "plt.xlabel(\"Age\")\n",
    "plt.ylabel(\"Frequency\")\n",
    "plt.show()"
   ]
  },
  {
   "cell_type": "markdown",
   "metadata": {},
   "source": [
    "visualize age and user_id by scatter plot"
   ]
  },
  {
   "cell_type": "code",
   "execution_count": null,
   "metadata": {},
   "outputs": [],
   "source": [
    "plt.scatter(df_raw['id'],df_raw['age'],color='steelblue',edgecolor='black',linewidth=0.5)\n",
    "plt.title(\"Scatter Plot of Age\")\n",
    "plt.xlabel(\"ID\")\n",
    "plt.ylabel(\"Age\")\n",
    "plt.show()"
   ]
  },
  {
   "cell_type": "markdown",
   "metadata": {},
   "source": [
    "visualize the distribution of height and weight by histogram"
   ]
  },
  {
   "cell_type": "code",
   "execution_count": null,
   "metadata": {},
   "outputs": [],
   "source": [
    "plt.hist(df_raw['height'],bins=25,color='steelblue',edgecolor='black',linewidth=0.5)\n",
    "plt.title(\"Histogram of Height\")\n",
    "plt.xlabel(\"Height\")\n",
    "plt.ylabel(\"Frequency\")\n",
    "# sns.heatmap(df_corr['height'],annot=True,cmap='YlGnBu')\n",
    "plt.show()"
   ]
  },
  {
   "cell_type": "code",
   "execution_count": null,
   "metadata": {},
   "outputs": [],
   "source": [
    "plt.hist(df_raw['weight'],bins=25,color='steelblue',edgecolor='black',linewidth=0.5)\n",
    "plt.title(\"Histogram of weight\")\n",
    "plt.xlabel(\"weight\")\n",
    "plt.ylabel(\"Frequency\")\n",
    "# sns.heatmap(df_corr['height'],annot=True,cmap='YlGnBu')\n",
    "plt.show()"
   ]
  },
  {
   "cell_type": "markdown",
   "metadata": {},
   "source": [
    "heat map of height and weight and age"
   ]
  },
  {
   "cell_type": "code",
   "execution_count": null,
   "metadata": {},
   "outputs": [],
   "source": [
    "subset=df_raw[['age','height','weight']]\n",
    "sns.heatmap(subset.corr(),annot=True,cmap='YlGnBu')\n",
    "plt.show()"
   ]
  },
  {
   "cell_type": "markdown",
   "metadata": {},
   "source": [
    "### 3.Attention is a classic and popular technique in natural language processing. Please randomly initialize Q and K vectors and visualize the attention score via heatmap."
   ]
  },
  {
   "cell_type": "markdown",
   "metadata": {},
   "source": [
    "**solution:**"
   ]
  },
  {
   "cell_type": "code",
   "execution_count": null,
   "metadata": {},
   "outputs": [],
   "source": [
    "import numpy as np\n",
    "\n",
    "# generate 5*10 matrix Q and 5*10 matrix K\n",
    "Q=np.random.rand(5,10)\n",
    "K=np.random.rand(5,10)\n",
    "d_k = np.sqrt(10)\n",
    "\n",
    "# calculate the attention score\n",
    "\n",
    "# calculate the product of Q and K\n",
    "product=np.dot(Q,K.T)/d_k\n",
    "\n",
    "# calculate the softmax of the product\n",
    "attention_scores = np.exp(product) / np.sum(np.exp(product),axis=1)\n",
    "\n",
    "# draw the heatmap of the attention score\n",
    "sns.heatmap(attention_scores,annot=True,cmap='YlGnBu')\n",
    "plt.show()"
   ]
  }
 ],
 "metadata": {
  "kernelspec": {
   "display_name": "Python 3.9.18 ('data-engineer')",
   "language": "python",
   "name": "python3"
  },
  "language_info": {
   "codemirror_mode": {
    "name": "ipython",
    "version": 3
   },
   "file_extension": ".py",
   "mimetype": "text/x-python",
   "name": "python",
   "nbconvert_exporter": "python",
   "pygments_lexer": "ipython3",
   "version": "3.9.18"
  },
  "orig_nbformat": 4,
  "vscode": {
   "interpreter": {
    "hash": "1d52d41741e23d01d8413ed6c85145989214efef18b3fe42ac4410644d7089ab"
   }
  }
 },
 "nbformat": 4,
 "nbformat_minor": 2
}
